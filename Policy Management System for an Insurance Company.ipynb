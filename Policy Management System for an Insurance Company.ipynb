{
 "cells": [
  {
   "cell_type": "markdown",
   "id": "2687cb55",
   "metadata": {},
   "source": [
    "### Policy Management System for an Insurance Company"
   ]
  },
  {
   "cell_type": "markdown",
   "id": "936cb5e9",
   "metadata": {},
   "source": [
    "### Step 1: Class Creation"
   ]
  },
  {
   "cell_type": "markdown",
   "id": "3e74962a",
   "metadata": {},
   "source": [
    "###### Policyholder Class"
   ]
  },
  {
   "cell_type": "code",
   "execution_count": 1,
   "id": "8ac77407",
   "metadata": {},
   "outputs": [],
   "source": [
    "class Policyholder:\n",
    "    def __init__(self, policyholder_id, name, contact_info):\n",
    "        self.policyholder_id = policyholder_id\n",
    "        self.name = name\n",
    "        self.contact_info = contact_info\n",
    "        self.status = 'Active'\n",
    "        self.payments = []\n",
    "\n",
    "    def suspend(self):\n",
    "        self.status = 'Suspended'\n",
    "\n",
    "    def reactivate(self):\n",
    "        self.status = 'Active'\n",
    "\n",
    "    def add_payment(self, payment):\n",
    "        self.payments.append(payment)\n",
    "\n",
    "    def __str__(self):\n",
    "        return (f\"Policyholder ID: {self.policyholder_id}, Name: {self.name}, Contact Info: {self.contact_info}, \"\n",
    "                f\"Status: {self.status}, Payments: {[str(payment) for payment in self.payments]}\")\n"
   ]
  },
  {
   "cell_type": "markdown",
   "id": "0c11cc5e",
   "metadata": {},
   "source": [
    "###### Product Class"
   ]
  },
  {
   "cell_type": "code",
   "execution_count": 2,
   "id": "c3a20ca0",
   "metadata": {},
   "outputs": [],
   "source": [
    "class Product:\n",
    "    def __init__(self, product_id, name, description, premium_amount):\n",
    "        self.product_id = product_id\n",
    "        self.name = name\n",
    "        self.description = description\n",
    "        self.premium_amount = premium_amount\n",
    "        self.status = 'Active'\n",
    "\n",
    "    def update(self, name=None, description=None, premium_amount=None):\n",
    "        if name:\n",
    "            self.name = name\n",
    "        if description:\n",
    "            self.description = description\n",
    "        if premium_amount:\n",
    "            self.premium_amount = premium_amount\n",
    "\n",
    "    def suspend(self):\n",
    "        self.status = 'Suspended'\n",
    "\n",
    "    def __str__(self):\n",
    "        return (f\"Product ID: {self.product_id}, Name: {self.name}, Description: {self.description}, \"\n",
    "                f\"Premium Amount: {self.premium_amount}, Status: {self.status}\")\n"
   ]
  },
  {
   "cell_type": "markdown",
   "id": "cce207e2",
   "metadata": {},
   "source": [
    "###### Payment Class"
   ]
  },
  {
   "cell_type": "code",
   "execution_count": 3,
   "id": "28a26c0d",
   "metadata": {},
   "outputs": [],
   "source": [
    "class Payment:\n",
    "    def __init__(self, payment_id, policyholder_id, amount, date, payment_method):\n",
    "        self.payment_id = payment_id\n",
    "        self.policyholder_id = policyholder_id\n",
    "        self.amount = amount\n",
    "        self.date = date\n",
    "        self.payment_method = payment_method\n",
    "        self.status = 'Completed'\n",
    "\n",
    "    def __str__(self):\n",
    "        return (f\"Payment ID: {self.payment_id}, Policyholder ID: {self.policyholder_id}, Amount: {self.amount}, \"\n",
    "                f\"Date: {self.date}, Payment Method: {self.payment_method}, Status: {self.status}\")\n"
   ]
  },
  {
   "cell_type": "markdown",
   "id": "41814810",
   "metadata": {},
   "source": [
    "### Step 2: Implement Management Methods"
   ]
  },
  {
   "cell_type": "markdown",
   "id": "ce075b91",
   "metadata": {},
   "source": [
    "###### Policyholder Management"
   ]
  },
  {
   "cell_type": "code",
   "execution_count": 4,
   "id": "a8d5b833",
   "metadata": {},
   "outputs": [],
   "source": [
    "class PolicyholderManager:\n",
    "    def __init__(self):\n",
    "        self.policyholders = {}\n",
    "\n",
    "    def register_policyholder(self, name, contact_info):\n",
    "        policyholder_id = len(self.policyholders) + 1\n",
    "        policyholder = Policyholder(policyholder_id, name, contact_info)\n",
    "        self.policyholders[policyholder_id] = policyholder\n",
    "        return policyholder\n",
    "\n",
    "    def suspend_policyholder(self, policyholder_id):\n",
    "        if policyholder_id in self.policyholders:\n",
    "            self.policyholders[policyholder_id].suspend()\n",
    "\n",
    "    def reactivate_policyholder(self, policyholder_id):\n",
    "        if policyholder_id in self.policyholders:\n",
    "            self.policyholders[policyholder_id].reactivate()\n",
    "\n",
    "    def get_policyholder(self, policyholder_id):\n",
    "        return self.policyholders.get(policyholder_id, None)\n"
   ]
  },
  {
   "cell_type": "markdown",
   "id": "14921029",
   "metadata": {},
   "source": [
    "###### Product Management"
   ]
  },
  {
   "cell_type": "code",
   "execution_count": 5,
   "id": "2eef3181",
   "metadata": {},
   "outputs": [],
   "source": [
    "class ProductManager:\n",
    "    def __init__(self):\n",
    "        self.products = {}\n",
    "\n",
    "    def create_product(self, name, description, premium_amount):\n",
    "        product_id = len(self.products) + 1\n",
    "        product = Product(product_id, name, description, premium_amount)\n",
    "        self.products[product_id] = product\n",
    "        return product\n",
    "\n",
    "    def update_product(self, product_id, name=None, description=None, premium_amount=None):\n",
    "        if product_id in self.products:\n",
    "            self.products[product_id].update(name, description, premium_amount)\n",
    "\n",
    "    def suspend_product(self, product_id):\n",
    "        if product_id in self.products:\n",
    "            self.products[product_id].suspend()\n",
    "\n",
    "    def get_product(self, product_id):\n",
    "        return self.products.get(product_id, None)\n"
   ]
  },
  {
   "cell_type": "markdown",
   "id": "cb5a0f41",
   "metadata": {},
   "source": [
    "###### Payment Management"
   ]
  },
  {
   "cell_type": "code",
   "execution_count": 6,
   "id": "dfca6e05",
   "metadata": {},
   "outputs": [],
   "source": [
    "class PaymentManager:\n",
    "    def __init__(self):\n",
    "        self.payments = {}\n",
    "\n",
    "    def process_payment(self, policyholder_id, amount, date, payment_method):\n",
    "        payment_id = len(self.payments) + 1\n",
    "        payment = Payment(payment_id, policyholder_id, amount, date, payment_method)\n",
    "        self.payments[payment_id] = payment\n",
    "        return payment\n",
    "\n",
    "    def send_reminder(self, policyholder_id):\n",
    "        # Placeholder for sending reminders\n",
    "        print(f\"Reminder sent to Policyholder ID: {policyholder_id}\")\n",
    "\n",
    "    def apply_penalty(self, policyholder_id, penalty_amount):\n",
    "        # Placeholder for applying penalties\n",
    "        print(f\"Penalty of {penalty_amount} applied to Policyholder ID: {policyholder_id}\")\n"
   ]
  },
  {
   "cell_type": "markdown",
   "id": "99e47f01",
   "metadata": {},
   "source": [
    "## Step 3: Demonstration"
   ]
  },
  {
   "cell_type": "markdown",
   "id": "c2beb573",
   "metadata": {},
   "source": [
    "###### Setup and Demonstrate"
   ]
  },
  {
   "cell_type": "code",
   "execution_count": 7,
   "id": "e83c08ba",
   "metadata": {},
   "outputs": [
    {
     "name": "stdout",
     "output_type": "stream",
     "text": [
      "Policyholder ID: 1, Name: Mobolaji Olanrewaju, Contact Info: seyebolaji@gmail.com, Status: Active, Payments: ['Payment ID: 1, Policyholder ID: 1, Amount: 750.0, Date: 2024-06-18, Payment Method: Credit Card, Status: Completed']\n",
      "Policyholder ID: 2, Name: Nkudu Uche Victor, Contact Info: nkudu4luv@gmail.com, Status: Active, Payments: ['Payment ID: 2, Policyholder ID: 2, Amount: 400.0, Date: 2024-06-18, Payment Method: Debit Card, Status: Completed']\n"
     ]
    }
   ],
   "source": [
    "# Create managers\n",
    "policyholder_manager = PolicyholderManager()\n",
    "product_manager = ProductManager()\n",
    "payment_manager = PaymentManager()\n",
    "\n",
    "# Create products\n",
    "product1 = product_manager.create_product(\"Health Insurance\", \"Comprehensive health coverage\", 750.0)\n",
    "product2 = product_manager.create_product(\"Car Insurance\", \"Full coverage car insurance\", 400.0)\n",
    "\n",
    "# Register policyholders\n",
    "policyholder1 = policyholder_manager.register_policyholder(\"Mobolaji Olanrewaju\", \"seyebolaji@gmail.com\")\n",
    "policyholder2 = policyholder_manager.register_policyholder(\"Nkudu Uche Victor\", \"nkudu4luv@gmail.com\")\n",
    "\n",
    "# Process payments\n",
    "payment1 = payment_manager.process_payment(policyholder1.policyholder_id, product1.premium_amount, \"2024-06-18\", \"Credit Card\")\n",
    "payment2 = payment_manager.process_payment(policyholder2.policyholder_id, product2.premium_amount, \"2024-06-18\", \"Debit Card\")\n",
    "\n",
    "# Add payments to policyholders\n",
    "policyholder1.add_payment(payment1)\n",
    "policyholder2.add_payment(payment2)\n",
    "\n",
    "# Display policyholder details\n",
    "print(policyholder1)\n",
    "print(policyholder2)\n"
   ]
  }
 ],
 "metadata": {
  "kernelspec": {
   "display_name": "Python 3 (ipykernel)",
   "language": "python",
   "name": "python3"
  },
  "language_info": {
   "codemirror_mode": {
    "name": "ipython",
    "version": 3
   },
   "file_extension": ".py",
   "mimetype": "text/x-python",
   "name": "python",
   "nbconvert_exporter": "python",
   "pygments_lexer": "ipython3",
   "version": "3.9.7"
  }
 },
 "nbformat": 4,
 "nbformat_minor": 5
}
